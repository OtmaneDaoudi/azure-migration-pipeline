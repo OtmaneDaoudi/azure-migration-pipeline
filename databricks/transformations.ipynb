{
 "cells": [
  {
   "cell_type": "code",
   "execution_count": null,
   "metadata": {},
   "outputs": [],
   "source": [
    "import os\n",
    "\n",
    "CONTAINER_NAMES = os.environ[\"container_names\"].split(\",\")\n",
    "BRONZ_CONTAINER = CONTAINER_NAMES[0]\n",
    "SILVER_CONTAINER = CONTAINER_NAMES[1]\n",
    "GOLD_CONTAINER = CONTAINER_NAMES[2]\n",
    "\n",
    "STORAGE_ACCOUNT_NAME = os.environ[\"storage_account_name\"]\n",
    "\n",
    "SAS_TOKEN = os.environ[\"sas_token\"]"
   ]
  },
  {
   "cell_type": "code",
   "execution_count": null,
   "metadata": {},
   "outputs": [],
   "source": [
    "spark.conf.set(f\"fs.azure.account.auth.type.{STORAGE_ACCOUNT_NAME}.dfs.core.windows.net\", \"SAS\")\n",
    "spark.conf.set(f\"fs.azure.sas.token.provider.type.{STORAGE_ACCOUNT_NAME}.dfs.core.windows.net\", \"org.apache.hadoop.fs.azurebfs.sas.FixedSASTokenProvider\")\n",
    "spark.conf.set(f\"fs.azure.sas.fixed.token.{STORAGE_ACCOUNT_NAME}.dfs.core.windows.net\", r\"{SAS_TOKEN[1:]}\")"
   ]
  },
  {
   "cell_type": "code",
   "execution_count": null,
   "metadata": {},
   "outputs": [],
   "source": [
    "dbutils.fs.ls(f\"abfss://gold@{STORAGE_ACCOUNT_NAME}.dfs.core.windows.net/\")"
   ]
  }
 ],
 "metadata": {
  "language_info": {
   "name": "python"
  },
  "orig_nbformat": 4
 },
 "nbformat": 4,
 "nbformat_minor": 2
}
